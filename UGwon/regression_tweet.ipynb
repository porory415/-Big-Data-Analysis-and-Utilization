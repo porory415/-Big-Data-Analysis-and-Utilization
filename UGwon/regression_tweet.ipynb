{
 "cells": [
  {
   "cell_type": "code",
   "execution_count": 1,
   "id": "326e6453",
   "metadata": {},
   "outputs": [],
   "source": [
    "### 사용할 라이브러리\n",
    "import pandas as pd ### 데이터 분석을 하기 위한 파이썬 라이브러리\n",
    "import numpy as np\n",
    "import matplotlib.pyplot as plt\n",
    "import seaborn as sns\n",
    "%matplotlib inline\n",
    "\n",
    "#import warnings\n",
    "#warnings.filterwarnings(\"ignore\", category=FutureWarning)\n",
    "#warnings.filterwarnings(\"ignore\", category=DeprecationWarning)"
   ]
  },
  {
   "cell_type": "code",
   "execution_count": 32,
   "id": "7a174d29",
   "metadata": {},
   "outputs": [],
   "source": [
    "df=pd.read_csv(\"./join_complete.csv\", index_col=0)"
   ]
  },
  {
   "cell_type": "code",
   "execution_count": 33,
   "id": "4f432557",
   "metadata": {
    "scrolled": true
   },
   "outputs": [
    {
     "data": {
      "text/html": [
       "<div>\n",
       "<style scoped>\n",
       "    .dataframe tbody tr th:only-of-type {\n",
       "        vertical-align: middle;\n",
       "    }\n",
       "\n",
       "    .dataframe tbody tr th {\n",
       "        vertical-align: top;\n",
       "    }\n",
       "\n",
       "    .dataframe thead th {\n",
       "        text-align: right;\n",
       "    }\n",
       "</style>\n",
       "<table border=\"1\" class=\"dataframe\">\n",
       "  <thead>\n",
       "    <tr style=\"text-align: right;\">\n",
       "      <th></th>\n",
       "      <th>date</th>\n",
       "      <th>subjectivity</th>\n",
       "      <th>polarity</th>\n",
       "      <th>Date</th>\n",
       "      <th>Open</th>\n",
       "      <th>High</th>\n",
       "      <th>Low</th>\n",
       "      <th>Close</th>\n",
       "      <th>Adj Close</th>\n",
       "      <th>Volume</th>\n",
       "    </tr>\n",
       "  </thead>\n",
       "  <tbody>\n",
       "    <tr>\n",
       "      <th>0</th>\n",
       "      <td>2021-02-05</td>\n",
       "      <td>0.243801</td>\n",
       "      <td>0.084413</td>\n",
       "      <td>2021-02-05</td>\n",
       "      <td>36931.546875</td>\n",
       "      <td>38225.906250</td>\n",
       "      <td>36658.761719</td>\n",
       "      <td>38144.308594</td>\n",
       "      <td>38144.308594</td>\n",
       "      <td>58598066402</td>\n",
       "    </tr>\n",
       "    <tr>\n",
       "      <th>1</th>\n",
       "      <td>2021-02-06</td>\n",
       "      <td>0.257014</td>\n",
       "      <td>0.097354</td>\n",
       "      <td>2021-02-06</td>\n",
       "      <td>38138.386719</td>\n",
       "      <td>40846.546875</td>\n",
       "      <td>38138.386719</td>\n",
       "      <td>39266.011719</td>\n",
       "      <td>39266.011719</td>\n",
       "      <td>71326033653</td>\n",
       "    </tr>\n",
       "    <tr>\n",
       "      <th>2</th>\n",
       "      <td>2021-02-07</td>\n",
       "      <td>0.326438</td>\n",
       "      <td>0.144448</td>\n",
       "      <td>2021-02-07</td>\n",
       "      <td>39250.191406</td>\n",
       "      <td>39621.835938</td>\n",
       "      <td>37446.152344</td>\n",
       "      <td>38903.441406</td>\n",
       "      <td>38903.441406</td>\n",
       "      <td>65500641143</td>\n",
       "    </tr>\n",
       "  </tbody>\n",
       "</table>\n",
       "</div>"
      ],
      "text/plain": [
       "         date  subjectivity  polarity        Date          Open          High  \\\n",
       "0  2021-02-05      0.243801  0.084413  2021-02-05  36931.546875  38225.906250   \n",
       "1  2021-02-06      0.257014  0.097354  2021-02-06  38138.386719  40846.546875   \n",
       "2  2021-02-07      0.326438  0.144448  2021-02-07  39250.191406  39621.835938   \n",
       "\n",
       "            Low         Close     Adj Close       Volume  \n",
       "0  36658.761719  38144.308594  38144.308594  58598066402  \n",
       "1  38138.386719  39266.011719  39266.011719  71326033653  \n",
       "2  37446.152344  38903.441406  38903.441406  65500641143  "
      ]
     },
     "execution_count": 33,
     "metadata": {},
     "output_type": "execute_result"
    }
   ],
   "source": [
    "#데이터셋을 불러와서 첫 세 줄을 출력하여 데이터의 구성을 한 번 살펴볼게요.\n",
    "df.head(3)"
   ]
  },
  {
   "cell_type": "code",
   "execution_count": 34,
   "id": "8074e812",
   "metadata": {},
   "outputs": [],
   "source": [
    "### 그래프의 배경 설정 : sns --> seaborn 라이브러리 이용\n",
    "sns.set_style('darkgrid')"
   ]
  },
  {
   "cell_type": "code",
   "execution_count": 35,
   "id": "1d7ea60f",
   "metadata": {},
   "outputs": [
    {
     "data": {
      "text/plain": [
       "(92, 10)"
      ]
     },
     "execution_count": 35,
     "metadata": {},
     "output_type": "execute_result"
    }
   ],
   "source": [
    "### 데이터 셋 구조 보기\n",
    "df.shape "
   ]
  },
  {
   "cell_type": "code",
   "execution_count": 36,
   "id": "d719e660",
   "metadata": {},
   "outputs": [
    {
     "data": {
      "text/plain": [
       "date            0\n",
       "subjectivity    0\n",
       "polarity        0\n",
       "Date            0\n",
       "Open            0\n",
       "High            0\n",
       "Low             0\n",
       "Close           0\n",
       "Adj Close       0\n",
       "Volume          0\n",
       "dtype: int64"
      ]
     },
     "execution_count": 36,
     "metadata": {},
     "output_type": "execute_result"
    }
   ],
   "source": [
    "### 결측치 : 비어있는 데이터를 찾습니다. \n",
    "### 여기서는 어떤 컬럼(변수, 특성, x)에 결측치가 많은지 봅니다.\n",
    "df.isnull().sum()"
   ]
  },
  {
   "cell_type": "code",
   "execution_count": 37,
   "id": "f2668144",
   "metadata": {},
   "outputs": [
    {
     "name": "stdout",
     "output_type": "stream",
     "text": [
      "<class 'pandas.core.frame.DataFrame'>\n",
      "Int64Index: 92 entries, 0 to 91\n",
      "Data columns (total 10 columns):\n",
      " #   Column        Non-Null Count  Dtype  \n",
      "---  ------        --------------  -----  \n",
      " 0   date          92 non-null     object \n",
      " 1   subjectivity  92 non-null     float64\n",
      " 2   polarity      92 non-null     float64\n",
      " 3   Date          92 non-null     object \n",
      " 4   Open          92 non-null     float64\n",
      " 5   High          92 non-null     float64\n",
      " 6   Low           92 non-null     float64\n",
      " 7   Close         92 non-null     float64\n",
      " 8   Adj Close     92 non-null     float64\n",
      " 9   Volume        92 non-null     int64  \n",
      "dtypes: float64(7), int64(1), object(2)\n",
      "memory usage: 7.9+ KB\n"
     ]
    }
   ],
   "source": [
    "### data type을 확인합니다.\n",
    "df.info()"
   ]
  },
  {
   "cell_type": "code",
   "execution_count": 38,
   "id": "26505b4c",
   "metadata": {},
   "outputs": [
    {
     "data": {
      "text/html": [
       "<div>\n",
       "<style scoped>\n",
       "    .dataframe tbody tr th:only-of-type {\n",
       "        vertical-align: middle;\n",
       "    }\n",
       "\n",
       "    .dataframe tbody tr th {\n",
       "        vertical-align: top;\n",
       "    }\n",
       "\n",
       "    .dataframe thead th {\n",
       "        text-align: right;\n",
       "    }\n",
       "</style>\n",
       "<table border=\"1\" class=\"dataframe\">\n",
       "  <thead>\n",
       "    <tr style=\"text-align: right;\">\n",
       "      <th></th>\n",
       "      <th>subjectivity</th>\n",
       "      <th>polarity</th>\n",
       "      <th>Open</th>\n",
       "      <th>High</th>\n",
       "      <th>Low</th>\n",
       "      <th>Close</th>\n",
       "      <th>Adj Close</th>\n",
       "      <th>Volume</th>\n",
       "    </tr>\n",
       "  </thead>\n",
       "  <tbody>\n",
       "    <tr>\n",
       "      <th>count</th>\n",
       "      <td>92.000000</td>\n",
       "      <td>92.000000</td>\n",
       "      <td>92.000000</td>\n",
       "      <td>92.000000</td>\n",
       "      <td>92.000000</td>\n",
       "      <td>92.000000</td>\n",
       "      <td>92.000000</td>\n",
       "      <td>9.200000e+01</td>\n",
       "    </tr>\n",
       "    <tr>\n",
       "      <th>mean</th>\n",
       "      <td>0.321563</td>\n",
       "      <td>0.133929</td>\n",
       "      <td>47159.392196</td>\n",
       "      <td>48443.249023</td>\n",
       "      <td>45701.748726</td>\n",
       "      <td>47249.746264</td>\n",
       "      <td>47249.746264</td>\n",
       "      <td>4.602204e+10</td>\n",
       "    </tr>\n",
       "    <tr>\n",
       "      <th>std</th>\n",
       "      <td>0.043734</td>\n",
       "      <td>0.035971</td>\n",
       "      <td>10717.035922</td>\n",
       "      <td>10691.054809</td>\n",
       "      <td>10475.109649</td>\n",
       "      <td>10492.647347</td>\n",
       "      <td>10492.647347</td>\n",
       "      <td>1.929738e+10</td>\n",
       "    </tr>\n",
       "    <tr>\n",
       "      <th>min</th>\n",
       "      <td>0.219152</td>\n",
       "      <td>0.072422</td>\n",
       "      <td>29796.285156</td>\n",
       "      <td>31006.187500</td>\n",
       "      <td>28893.621094</td>\n",
       "      <td>29807.347656</td>\n",
       "      <td>29807.347656</td>\n",
       "      <td>1.878799e+10</td>\n",
       "    </tr>\n",
       "    <tr>\n",
       "      <th>25%</th>\n",
       "      <td>0.293310</td>\n",
       "      <td>0.096733</td>\n",
       "      <td>38194.595703</td>\n",
       "      <td>39737.722656</td>\n",
       "      <td>36639.428711</td>\n",
       "      <td>38428.282227</td>\n",
       "      <td>38428.282227</td>\n",
       "      <td>3.266150e+10</td>\n",
       "    </tr>\n",
       "    <tr>\n",
       "      <th>50%</th>\n",
       "      <td>0.333731</td>\n",
       "      <td>0.140163</td>\n",
       "      <td>46871.541016</td>\n",
       "      <td>48000.910156</td>\n",
       "      <td>45639.955078</td>\n",
       "      <td>46829.898438</td>\n",
       "      <td>46829.898438</td>\n",
       "      <td>4.025103e+10</td>\n",
       "    </tr>\n",
       "    <tr>\n",
       "      <th>75%</th>\n",
       "      <td>0.351317</td>\n",
       "      <td>0.162922</td>\n",
       "      <td>57912.541016</td>\n",
       "      <td>58436.839844</td>\n",
       "      <td>55433.492188</td>\n",
       "      <td>57450.347656</td>\n",
       "      <td>57450.347656</td>\n",
       "      <td>5.635202e+10</td>\n",
       "    </tr>\n",
       "    <tr>\n",
       "      <th>max</th>\n",
       "      <td>0.432971</td>\n",
       "      <td>0.205167</td>\n",
       "      <td>66002.234375</td>\n",
       "      <td>66930.390625</td>\n",
       "      <td>64180.488281</td>\n",
       "      <td>65992.835938</td>\n",
       "      <td>65992.835938</td>\n",
       "      <td>1.014672e+11</td>\n",
       "    </tr>\n",
       "  </tbody>\n",
       "</table>\n",
       "</div>"
      ],
      "text/plain": [
       "       subjectivity   polarity          Open          High           Low  \\\n",
       "count     92.000000  92.000000     92.000000     92.000000     92.000000   \n",
       "mean       0.321563   0.133929  47159.392196  48443.249023  45701.748726   \n",
       "std        0.043734   0.035971  10717.035922  10691.054809  10475.109649   \n",
       "min        0.219152   0.072422  29796.285156  31006.187500  28893.621094   \n",
       "25%        0.293310   0.096733  38194.595703  39737.722656  36639.428711   \n",
       "50%        0.333731   0.140163  46871.541016  48000.910156  45639.955078   \n",
       "75%        0.351317   0.162922  57912.541016  58436.839844  55433.492188   \n",
       "max        0.432971   0.205167  66002.234375  66930.390625  64180.488281   \n",
       "\n",
       "              Close     Adj Close        Volume  \n",
       "count     92.000000     92.000000  9.200000e+01  \n",
       "mean   47249.746264  47249.746264  4.602204e+10  \n",
       "std    10492.647347  10492.647347  1.929738e+10  \n",
       "min    29807.347656  29807.347656  1.878799e+10  \n",
       "25%    38428.282227  38428.282227  3.266150e+10  \n",
       "50%    46829.898438  46829.898438  4.025103e+10  \n",
       "75%    57450.347656  57450.347656  5.635202e+10  \n",
       "max    65992.835938  65992.835938  1.014672e+11  "
      ]
     },
     "execution_count": 38,
     "metadata": {},
     "output_type": "execute_result"
    }
   ],
   "source": [
    "### 슷지형 변수만 뽑아서 기본 통계를 해 봅니다.\n",
    "\n",
    "df.describe()"
   ]
  },
  {
   "cell_type": "markdown",
   "id": "5b651b7c",
   "metadata": {},
   "source": [
    "## 2-2 종속변수(타겟변수, y)의 탐색"
   ]
  },
  {
   "cell_type": "code",
   "execution_count": 39,
   "id": "f8a232cc",
   "metadata": {},
   "outputs": [
    {
     "data": {
      "text/plain": [
       "count       92.000000\n",
       "mean     47249.746264\n",
       "std      10492.647347\n",
       "min      29807.347656\n",
       "25%      38428.282227\n",
       "50%      46829.898438\n",
       "75%      57450.347656\n",
       "max      65992.835938\n",
       "Name: Adj Close, dtype: float64"
      ]
     },
     "execution_count": 39,
     "metadata": {},
     "output_type": "execute_result"
    }
   ],
   "source": [
    "### 기초 통계량을 다시 살펴봅니다.\n",
    "\n",
    "df['Adj Close'].describe()"
   ]
  },
  {
   "cell_type": "code",
   "execution_count": 40,
   "id": "6d79b2f5",
   "metadata": {},
   "outputs": [
    {
     "data": {
      "text/plain": [
       "<AxesSubplot:>"
      ]
     },
     "execution_count": 40,
     "metadata": {},
     "output_type": "execute_result"
    },
    {
     "data": {
      "image/png": "[encoded data removed]",
      "text/plain": [
       "<Figure size 432x288 with 1 Axes>"
      ]
     },
     "metadata": {},
     "output_type": "display_data"
    }
   ],
   "source": [
    "### 시각화를 해서 살펴봅니다. 데이터의 분포를 파악할때, 시각화각 가장 좋은 방법 중 한개 입니다.!! \n",
    "### .hist(): 히스토그램을 의미합니다. bins=50:주머니가 50개 이다. x가 50개로 나누어 진다라고 이해하셔도 좋습니다. \n",
    "### y축은 frequency 빈도수입니다. x 축은 실제 갑습니다. \n",
    "df['Adj Close'].hist(bins=50)"
   ]
  },
  {
   "cell_type": "markdown",
   "id": "d1bb768e",
   "metadata": {},
   "source": [
    "## 2-3 설명변수(독립변수, features, attributes, x) 살펴보기"
   ]
  },
  {
   "cell_type": "code",
   "execution_count": 42,
   "id": "a6c19667",
   "metadata": {},
   "outputs": [
    {
     "name": "stderr",
     "output_type": "stream",
     "text": [
      "<ipython-input-42-c6c955b2cb0d>:11: UserWarning: To output multiple subplots, the figure containing the passed axes is being cleared\n",
      "  df[numerical_columns].hist(ax=ax)\n"
     ]
    },
    {
     "data": {
      "image/png": "[encoded data removed]",
      "text/plain": [
       "<Figure size 1152x1440 with 2 Axes>"
      ]
     },
     "metadata": {},
     "output_type": "display_data"
    }
   ],
   "source": [
    "numerical_columns=['subjectivity', 'polarity']\n",
    "\n",
    "### figsize()는 plot()의 기본 크기를 지정합니다. \n",
    "fig = plt.figure(figsize = (16, 20))\n",
    "ax = fig.gca()  # Axes 생성\n",
    "\n",
    "### gca(), gcf(), axis()\n",
    "### gca()로 현재의 Axes를, gcf()로 현재의 Figure 객체를 구할 수 있다.\n",
    "### ax=plt.gica(): 축의 위치를 호출하여 ax로 설정(축 위치 변경을 위해 필요한 과정)\n",
    "\n",
    "df[numerical_columns].hist(ax=ax)\n",
    "plt.show()"
   ]
  },
  {
   "cell_type": "markdown",
   "id": "05ff3cc5",
   "metadata": {},
   "source": [
    "## 2-4. 설명변수(x) 와 종속변수(y) 간의 관계 탐색\n",
    "변수간의 상관관계 파악해 봅니다."
   ]
  },
  {
   "cell_type": "code",
   "execution_count": 43,
   "id": "3f525a96",
   "metadata": {},
   "outputs": [
    {
     "data": {
      "text/html": [
       "<div>\n",
       "<style scoped>\n",
       "    .dataframe tbody tr th:only-of-type {\n",
       "        vertical-align: middle;\n",
       "    }\n",
       "\n",
       "    .dataframe tbody tr th {\n",
       "        vertical-align: top;\n",
       "    }\n",
       "\n",
       "    .dataframe thead th {\n",
       "        text-align: right;\n",
       "    }\n",
       "</style>\n",
       "<table border=\"1\" class=\"dataframe\">\n",
       "  <thead>\n",
       "    <tr style=\"text-align: right;\">\n",
       "      <th></th>\n",
       "      <th>Adj Close</th>\n",
       "      <th>subjectivity</th>\n",
       "      <th>polarity</th>\n",
       "    </tr>\n",
       "  </thead>\n",
       "  <tbody>\n",
       "    <tr>\n",
       "      <th>Adj Close</th>\n",
       "      <td>1.000000</td>\n",
       "      <td>-0.288870</td>\n",
       "      <td>-0.185635</td>\n",
       "    </tr>\n",
       "    <tr>\n",
       "      <th>subjectivity</th>\n",
       "      <td>-0.288870</td>\n",
       "      <td>1.000000</td>\n",
       "      <td>0.871112</td>\n",
       "    </tr>\n",
       "    <tr>\n",
       "      <th>polarity</th>\n",
       "      <td>-0.185635</td>\n",
       "      <td>0.871112</td>\n",
       "      <td>1.000000</td>\n",
       "    </tr>\n",
       "  </tbody>\n",
       "</table>\n",
       "</div>"
      ],
      "text/plain": [
       "              Adj Close  subjectivity  polarity\n",
       "Adj Close      1.000000     -0.288870 -0.185635\n",
       "subjectivity  -0.288870      1.000000  0.871112\n",
       "polarity      -0.185635      0.871112  1.000000"
      ]
     },
     "execution_count": 43,
     "metadata": {},
     "output_type": "execute_result"
    }
   ],
   "source": [
    "### Person 상관계수 : 대표적으로 상관관계 분석시 사용하는 지표입니다.\n",
    "### -1 에서 1 사이의 값을 가진다는 특징이 있습니다.\n",
    "### 1일 때는 완전 양의 상관(perfect positive correlation), -1일 때는 완전 음의 상관관계(perfect negative correlation)관계를 보입니다.\n",
    "### https://m.blog.naver.com/istech7/50153047118\n",
    "\n",
    "cols = ['Adj Close', 'subjectivity', 'polarity']\n",
    "\n",
    "corr = df[cols].corr(method = 'pearson')\n",
    "corr"
   ]
  },
  {
   "cell_type": "code",
   "execution_count": 44,
   "id": "d08e4833",
   "metadata": {},
   "outputs": [
    {
     "data": {
      "image/png": "[encoded data removed]",
      "text/plain": [
       "<Figure size 1152x864 with 2 Axes>"
      ]
     },
     "metadata": {},
     "output_type": "display_data"
    }
   ],
   "source": [
    "### 상관관계를 직관적으로 살펴보기 위해 Heatmap 으로 돌려봅니다.\n",
    "### heatmap (seaborn): 여기서는 seaborn 시각화 라이브러리를 사용해서 표현합니다. \n",
    "### 시각화의 대표적인 라이브러리가 matplot(https://matplotlib.org/)과 seaborn(https://seaborn.pydata.org/)이 있습니다.\n",
    "\n",
    "fig = plt.figure(figsize = (16, 12))\n",
    "ax = fig.gca()\n",
    "\n",
    "# https://seaborn.pydata.org/generated/seaborn.heatmap.html\n",
    "sns.set(font_scale = 1.5)  # heatmap 안의 font-size 설정 \n",
    "heatmap = sns.heatmap(corr.values, annot = True, fmt='.2f', annot_kws={'size':15},\n",
    "                      yticklabels = cols, xticklabels = cols, ax=ax, cmap = \"YlGnBu\")\n",
    "plt.tight_layout()\n",
    "plt.show()"
   ]
  },
  {
   "cell_type": "code",
   "execution_count": 45,
   "id": "b95bfd53",
   "metadata": {},
   "outputs": [
    {
     "data": {
      "image/png": "[encoded data removed]",
      "text/plain": [
       "<Figure size 432x288 with 1 Axes>"
      ]
     },
     "metadata": {},
     "output_type": "display_data"
    }
   ],
   "source": [
    "### scatter plot 산점도, https://seaborn.pydata.org/generated/seaborn.scatterplot.html\n",
    "sns.scatterplot(data=df, x='subjectivity', y='Adj Close', markers='o', color='blue', alpha=0.6)\n",
    "plt.title('Scatter Plot')\n",
    "plt.show()"
   ]
  },
  {
   "cell_type": "code",
   "execution_count": 46,
   "id": "2579021e",
   "metadata": {},
   "outputs": [
    {
     "data": {
      "image/png": "[encoded data removed]",
      "text/plain": [
       "<Figure size 432x288 with 1 Axes>"
      ]
     },
     "metadata": {},
     "output_type": "display_data"
    }
   ],
   "source": [
    "\n",
    "# scatter plot\n",
    "sns.scatterplot(data=df, x='polarity', y='Adj Close', markers='o', color='blue', alpha=0.6)\n",
    "plt.title('Scatter Plot')\n",
    "plt.show()"
   ]
  },
  {
   "cell_type": "code",
   "execution_count": null,
   "id": "c465787b",
   "metadata": {},
   "outputs": [],
   "source": []
  },
  {
   "cell_type": "code",
   "execution_count": null,
   "id": "90e02690",
   "metadata": {},
   "outputs": [],
   "source": []
  },
  {
   "cell_type": "code",
   "execution_count": null,
   "id": "34f164b8",
   "metadata": {},
   "outputs": [],
   "source": []
  },
  {
   "cell_type": "code",
   "execution_count": null,
   "id": "1e32a752",
   "metadata": {},
   "outputs": [],
   "source": []
  },
  {
   "cell_type": "code",
   "execution_count": null,
   "id": "f1aa9727",
   "metadata": {},
   "outputs": [],
   "source": []
  },
  {
   "cell_type": "code",
   "execution_count": null,
   "id": "55645ec2",
   "metadata": {},
   "outputs": [],
   "source": []
  },
  {
   "cell_type": "code",
   "execution_count": null,
   "id": "0aac0f91",
   "metadata": {},
   "outputs": [],
   "source": []
  }
 ],
 "metadata": {
  "kernelspec": {
   "display_name": "Python 3",
   "language": "python",
   "name": "python3"
  },
  "language_info": {
   "codemirror_mode": {
    "name": "ipython",
    "version": 3
   },
   "file_extension": ".py",
   "mimetype": "text/x-python",
   "name": "python",
   "nbconvert_exporter": "python",
   "pygments_lexer": "ipython3",
   "version": "3.8.8"
  }
 },
 "nbformat": 4,
 "nbformat_minor": 5
}
