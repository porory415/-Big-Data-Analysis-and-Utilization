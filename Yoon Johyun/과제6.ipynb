{
 "cells": [
  {
   "cell_type": "markdown",
   "metadata": {},
   "source": [
    "1. 종목 다섯 개를 임의로 선택하고 yfinance에서 2020년부터 주가 정보를 받아 월말의 Close column만 남기자 (종목 이름을 주석으로 첨부). pykrx에는 특정 종목과 기간에 대해 PER과 PBR을 얻을 수 있는 함수가 있다. 주가 데이터에 각 종목과 시점에 대응하는 PER과 PBR 값을 추가해 새로운 데이터를 구성하고, 이를 엑셀 파일로 저장하는 코드를 작성하라 (PER과 PBR을 제외한 값은 추가하지 않는다. 저장 경로는 자기 컴퓨터의 경로를 사용하면 된다). (6점)"
   ]
  },
  {
   "cell_type": "code",
   "execution_count": 1,
   "metadata": {
    "scrolled": true
   },
   "outputs": [
    {
     "name": "stdout",
     "output_type": "stream",
     "text": [
      "[*********************100%***********************]  5 of 5 completed\n"
     ]
    },
    {
     "name": "stderr",
     "output_type": "stream",
     "text": [
      "C:\\Users\\Lenovo\\Anaconda3\\lib\\site-packages\\pandas\\core\\indexing.py:376: SettingWithCopyWarning: \n",
      "A value is trying to be set on a copy of a slice from a DataFrame.\n",
      "Try using .loc[row_indexer,col_indexer] = value instead\n",
      "\n",
      "See the caveats in the documentation: http://pandas.pydata.org/pandas-docs/stable/user_guide/indexing.html#returning-a-view-versus-a-copy\n",
      "  self.obj[key] = _infer_fill_value(value)\n",
      "C:\\Users\\Lenovo\\Anaconda3\\lib\\site-packages\\pandas\\core\\indexing.py:494: SettingWithCopyWarning: \n",
      "A value is trying to be set on a copy of a slice from a DataFrame.\n",
      "Try using .loc[row_indexer,col_indexer] = value instead\n",
      "\n",
      "See the caveats in the documentation: http://pandas.pydata.org/pandas-docs/stable/user_guide/indexing.html#returning-a-view-versus-a-copy\n",
      "  self.obj[item] = s\n"
     ]
    }
   ],
   "source": [
    "import yfinance as yf\n",
    "from pykrx import stock\n",
    "import pandas as pd\n",
    "import os\n",
    "\n",
    "# 순서대로 삼성전자, 카카오, 넷마블, 네이버, 현대자동차\n",
    "ticker_list = ['005930.KS','035720.KS','251270.KS','035420.KS','005380.KS']\n",
    "df1 = yf.download(ticker_list, start= '2020-01-01')\n",
    "df1 = df1.asfreq(freq='M',how='end')\n",
    "\n",
    "df1 = df1.stack(level=1).rename_axis(['Date','Ticker']).reset_index()\n",
    "df1 = df1.sort_values(['Ticker','Date'])\n",
    "df2 = df1[['Date','Ticker','Close']]\n",
    "\n",
    "for idx in df1.index:\n",
    "    date = str(df2.loc[idx, 'Date'].strftime('%Y%m%d'))\n",
    "    ticker = df2.loc[idx, 'Ticker'].split('.')[0]\n",
    "    \n",
    "    df2.loc[idx, 'PER'] = stock.get_market_fundamental_by_ticker(date).loc[ticker, 'PER']\n",
    "    df2.loc[idx, 'PBR'] = stock.get_market_fundamental_by_ticker(date).loc[ticker, 'PBR']\n",
    "    \n",
    "    \n",
    "base_dir = r\"C:\\Users\\Lenovo\\Documents\\내 데이터 원본\"\n",
    "file_nm = \"assnm6-1.xlsx\"\n",
    "xlsx_dir = os.path.join(base_dir, file_nm) \n",
    "\n",
    "\n"
   ]
  },
  {
   "cell_type": "code",
   "execution_count": null,
   "metadata": {},
   "outputs": [],
   "source": []
  },
  {
   "cell_type": "markdown",
   "metadata": {},
   "source": [
    "2. size.pkl을 받고 강의노트 9페이지처럼 주가 데이터와 합치자. 매 시점에서 시가총액 상위 20% 종목과 하위 20% 종목을 찾고 다음 한 달 간 평균 수익률을 구하자. 이후 강의노트 7페이지와 유사하게 두 그룹의 누적 수익률을 구하고 추세를 그리는 코드를 작성하라. (9점) "
   ]
  },
  {
   "cell_type": "code",
   "execution_count": null,
   "metadata": {},
   "outputs": [],
   "source": []
  }
 ],
 "metadata": {
  "kernelspec": {
   "display_name": "Python 3",
   "language": "python",
   "name": "python3"
  },
  "language_info": {
   "codemirror_mode": {
    "name": "ipython",
    "version": 3
   },
   "file_extension": ".py",
   "mimetype": "text/x-python",
   "name": "python",
   "nbconvert_exporter": "python",
   "pygments_lexer": "ipython3",
   "version": "3.7.4"
  }
 },
 "nbformat": 4,
 "nbformat_minor": 2
}
