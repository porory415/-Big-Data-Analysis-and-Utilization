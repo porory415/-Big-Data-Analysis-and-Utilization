{
 "cells": [
  {
   "cell_type": "code",
   "execution_count": 44,
   "id": "93b875ea",
   "metadata": {},
   "outputs": [],
   "source": [
    "import numpy as np # linear algebra\n",
    "import pandas as pd\n",
    "# data provessing, CSV file I/O(e.g.pd.read_csv)\n",
    "from pandas import DataFrame"
   ]
  },
  {
   "cell_type": "code",
   "execution_count": 4,
   "id": "1e582eab",
   "metadata": {},
   "outputs": [],
   "source": [
    "import matplotlib.pyplot as plt\n",
    "import seaborn as sns"
   ]
  },
  {
   "cell_type": "code",
   "execution_count": 98,
   "id": "be355ddd",
   "metadata": {},
   "outputs": [
    {
     "name": "stderr",
     "output_type": "stream",
     "text": [
      "C:\\Users\\lily0\\anaconda3\\lib\\site-packages\\IPython\\core\\interactiveshell.py:3165: DtypeWarning: Columns (3,4,8) have mixed types.Specify dtype option on import or set low_memory=False.\n",
      "  has_raised = await self.run_ast_nodes(code_ast.body, cell_name,\n"
     ]
    }
   ],
   "source": [
    "dataset=pd.read_csv(\"./bit_tweets_sentiment.csv\")"
   ]
  },
  {
   "cell_type": "code",
   "execution_count": 7,
   "id": "7fa2e306",
   "metadata": {},
   "outputs": [
    {
     "data": {
      "text/plain": [
       "(1734672, 13)"
      ]
     },
     "execution_count": 7,
     "metadata": {},
     "output_type": "execute_result"
    }
   ],
   "source": [
    "dataset.shape"
   ]
  },
  {
   "cell_type": "code",
   "execution_count": 99,
   "id": "ac931c5b",
   "metadata": {},
   "outputs": [
    {
     "data": {
      "text/html": [
       "<div>\n",
       "<style scoped>\n",
       "    .dataframe tbody tr th:only-of-type {\n",
       "        vertical-align: middle;\n",
       "    }\n",
       "\n",
       "    .dataframe tbody tr th {\n",
       "        vertical-align: top;\n",
       "    }\n",
       "\n",
       "    .dataframe thead th {\n",
       "        text-align: right;\n",
       "    }\n",
       "</style>\n",
       "<table border=\"1\" class=\"dataframe\">\n",
       "  <thead>\n",
       "    <tr style=\"text-align: right;\">\n",
       "      <th></th>\n",
       "      <th>user_name</th>\n",
       "      <th>user_description</th>\n",
       "      <th>user_followers</th>\n",
       "      <th>user_friends</th>\n",
       "      <th>user_favourites</th>\n",
       "      <th>date</th>\n",
       "      <th>text</th>\n",
       "      <th>hashtags</th>\n",
       "      <th>is_retweet</th>\n",
       "      <th>cleaned_tweets</th>\n",
       "      <th>subjectivity</th>\n",
       "      <th>polarity</th>\n",
       "      <th>sentiment</th>\n",
       "    </tr>\n",
       "  </thead>\n",
       "  <tbody>\n",
       "    <tr>\n",
       "      <th>0</th>\n",
       "      <td>DeSota Wilson</td>\n",
       "      <td>Biz Consultant, real estate, fintech, startups...</td>\n",
       "      <td>8534.0</td>\n",
       "      <td>7605</td>\n",
       "      <td>4838</td>\n",
       "      <td>2021-02-10 23:59:04</td>\n",
       "      <td>Blue Ridge Bank shares halted by NYSE after #b...</td>\n",
       "      <td>['bitcoin']</td>\n",
       "      <td>False</td>\n",
       "      <td>Blue Ridge Bank share halted NYSE ATM announce...</td>\n",
       "      <td>0.1</td>\n",
       "      <td>0.00</td>\n",
       "      <td>neutral</td>\n",
       "    </tr>\n",
       "    <tr>\n",
       "      <th>1</th>\n",
       "      <td>CryptoND</td>\n",
       "      <td>😎 BITCOINLIVE is a Dutch platform aimed at inf...</td>\n",
       "      <td>6769.0</td>\n",
       "      <td>1532</td>\n",
       "      <td>25483</td>\n",
       "      <td>2021-02-10 23:58:48</td>\n",
       "      <td>😎 Today, that's this #Thursday, we will do a \"...</td>\n",
       "      <td>['Thursday', 'Btc', 'wallet', 'security']</td>\n",
       "      <td>False</td>\n",
       "      <td>Today Take friend expe</td>\n",
       "      <td>0.0</td>\n",
       "      <td>0.00</td>\n",
       "      <td>neutral</td>\n",
       "    </tr>\n",
       "    <tr>\n",
       "      <th>2</th>\n",
       "      <td>Crypto is the future</td>\n",
       "      <td>I will post a lot of buying signals for BTC tr...</td>\n",
       "      <td>625.0</td>\n",
       "      <td>129</td>\n",
       "      <td>14</td>\n",
       "      <td>2021-02-10 23:54:33</td>\n",
       "      <td>$BTC A big chance in a billion! Price: \\487264...</td>\n",
       "      <td>['Bitcoin', 'FX', 'BTC', 'crypto']</td>\n",
       "      <td>False</td>\n",
       "      <td>BTC A big chance billion Price</td>\n",
       "      <td>0.1</td>\n",
       "      <td>0.00</td>\n",
       "      <td>neutral</td>\n",
       "    </tr>\n",
       "    <tr>\n",
       "      <th>3</th>\n",
       "      <td>Alex Kirchmaier 🇦🇹🇸🇪 #FactsSuperspreader</td>\n",
       "      <td>Co-founder @RENJERJerky | Forbes 30Under30 | I...</td>\n",
       "      <td>1249.0</td>\n",
       "      <td>1472</td>\n",
       "      <td>10482</td>\n",
       "      <td>2021-02-10 23:54:06</td>\n",
       "      <td>This network is secured by 9 508 nodes as of t...</td>\n",
       "      <td>['BTC']</td>\n",
       "      <td>False</td>\n",
       "      <td>This network secured node today Soon biggest b...</td>\n",
       "      <td>0.2</td>\n",
       "      <td>-0.25</td>\n",
       "      <td>negative</td>\n",
       "    </tr>\n",
       "    <tr>\n",
       "      <th>4</th>\n",
       "      <td>ZerrBenz™ ⚔ ✪ 20732</td>\n",
       "      <td>I'm a cat slave 🐱 Interested in Blockchain · T...</td>\n",
       "      <td>742.0</td>\n",
       "      <td>716</td>\n",
       "      <td>2444</td>\n",
       "      <td>2021-02-10 23:53:30</td>\n",
       "      <td>💹 Trade #Crypto on #Binance \\n\\n📌 Enjoy #Cashb...</td>\n",
       "      <td>['Crypto', 'Binance', 'Cashback']</td>\n",
       "      <td>False</td>\n",
       "      <td>Trade Enjoy Trading fee Sign link</td>\n",
       "      <td>0.5</td>\n",
       "      <td>0.40</td>\n",
       "      <td>positive</td>\n",
       "    </tr>\n",
       "  </tbody>\n",
       "</table>\n",
       "</div>"
      ],
      "text/plain": [
       "                                  user_name  \\\n",
       "0                             DeSota Wilson   \n",
       "1                                  CryptoND   \n",
       "2                      Crypto is the future   \n",
       "3  Alex Kirchmaier 🇦🇹🇸🇪 #FactsSuperspreader   \n",
       "4                       ZerrBenz™ ⚔ ✪ 20732   \n",
       "\n",
       "                                    user_description  user_followers  \\\n",
       "0  Biz Consultant, real estate, fintech, startups...          8534.0   \n",
       "1  😎 BITCOINLIVE is a Dutch platform aimed at inf...          6769.0   \n",
       "2  I will post a lot of buying signals for BTC tr...           625.0   \n",
       "3  Co-founder @RENJERJerky | Forbes 30Under30 | I...          1249.0   \n",
       "4  I'm a cat slave 🐱 Interested in Blockchain · T...           742.0   \n",
       "\n",
       "  user_friends user_favourites                 date  \\\n",
       "0         7605            4838  2021-02-10 23:59:04   \n",
       "1         1532           25483  2021-02-10 23:58:48   \n",
       "2          129              14  2021-02-10 23:54:33   \n",
       "3         1472           10482  2021-02-10 23:54:06   \n",
       "4          716            2444  2021-02-10 23:53:30   \n",
       "\n",
       "                                                text  \\\n",
       "0  Blue Ridge Bank shares halted by NYSE after #b...   \n",
       "1  😎 Today, that's this #Thursday, we will do a \"...   \n",
       "2  $BTC A big chance in a billion! Price: \\487264...   \n",
       "3  This network is secured by 9 508 nodes as of t...   \n",
       "4  💹 Trade #Crypto on #Binance \\n\\n📌 Enjoy #Cashb...   \n",
       "\n",
       "                                    hashtags is_retweet  \\\n",
       "0                                ['bitcoin']      False   \n",
       "1  ['Thursday', 'Btc', 'wallet', 'security']      False   \n",
       "2         ['Bitcoin', 'FX', 'BTC', 'crypto']      False   \n",
       "3                                    ['BTC']      False   \n",
       "4          ['Crypto', 'Binance', 'Cashback']      False   \n",
       "\n",
       "                                      cleaned_tweets  subjectivity  polarity  \\\n",
       "0  Blue Ridge Bank share halted NYSE ATM announce...           0.1      0.00   \n",
       "1                             Today Take friend expe           0.0      0.00   \n",
       "2                     BTC A big chance billion Price           0.1      0.00   \n",
       "3  This network secured node today Soon biggest b...           0.2     -0.25   \n",
       "4                  Trade Enjoy Trading fee Sign link           0.5      0.40   \n",
       "\n",
       "  sentiment  \n",
       "0   neutral  \n",
       "1   neutral  \n",
       "2   neutral  \n",
       "3  negative  \n",
       "4  positive  "
      ]
     },
     "execution_count": 99,
     "metadata": {},
     "output_type": "execute_result"
    }
   ],
   "source": [
    "dataset.head()"
   ]
  },
  {
   "cell_type": "code",
   "execution_count": null,
   "id": "130a8d0c",
   "metadata": {},
   "outputs": [],
   "source": [
    "# 데이터탐색"
   ]
  },
  {
   "cell_type": "code",
   "execution_count": 11,
   "id": "10d39adf",
   "metadata": {
    "scrolled": true
   },
   "outputs": [
    {
     "data": {
      "text/html": [
       "<div>\n",
       "<style scoped>\n",
       "    .dataframe tbody tr th:only-of-type {\n",
       "        vertical-align: middle;\n",
       "    }\n",
       "\n",
       "    .dataframe tbody tr th {\n",
       "        vertical-align: top;\n",
       "    }\n",
       "\n",
       "    .dataframe thead th {\n",
       "        text-align: right;\n",
       "    }\n",
       "</style>\n",
       "<table border=\"1\" class=\"dataframe\">\n",
       "  <thead>\n",
       "    <tr style=\"text-align: right;\">\n",
       "      <th></th>\n",
       "      <th>user_followers</th>\n",
       "      <th>subjectivity</th>\n",
       "      <th>polarity</th>\n",
       "    </tr>\n",
       "  </thead>\n",
       "  <tbody>\n",
       "    <tr>\n",
       "      <th>count</th>\n",
       "      <td>1.734672e+06</td>\n",
       "      <td>1.734672e+06</td>\n",
       "      <td>1.734672e+06</td>\n",
       "    </tr>\n",
       "    <tr>\n",
       "      <th>mean</th>\n",
       "      <td>8.946742e+03</td>\n",
       "      <td>3.430571e-01</td>\n",
       "      <td>1.545077e-01</td>\n",
       "    </tr>\n",
       "    <tr>\n",
       "      <th>std</th>\n",
       "      <td>1.113588e+05</td>\n",
       "      <td>3.087966e-01</td>\n",
       "      <td>2.744611e-01</td>\n",
       "    </tr>\n",
       "    <tr>\n",
       "      <th>min</th>\n",
       "      <td>0.000000e+00</td>\n",
       "      <td>0.000000e+00</td>\n",
       "      <td>-1.000000e+00</td>\n",
       "    </tr>\n",
       "    <tr>\n",
       "      <th>25%</th>\n",
       "      <td>4.300000e+01</td>\n",
       "      <td>0.000000e+00</td>\n",
       "      <td>0.000000e+00</td>\n",
       "    </tr>\n",
       "    <tr>\n",
       "      <th>50%</th>\n",
       "      <td>2.030000e+02</td>\n",
       "      <td>3.500000e-01</td>\n",
       "      <td>0.000000e+00</td>\n",
       "    </tr>\n",
       "    <tr>\n",
       "      <th>75%</th>\n",
       "      <td>1.295000e+03</td>\n",
       "      <td>5.750000e-01</td>\n",
       "      <td>3.000000e-01</td>\n",
       "    </tr>\n",
       "    <tr>\n",
       "      <th>max</th>\n",
       "      <td>2.359728e+07</td>\n",
       "      <td>1.000000e+00</td>\n",
       "      <td>1.000000e+00</td>\n",
       "    </tr>\n",
       "  </tbody>\n",
       "</table>\n",
       "</div>"
      ],
      "text/plain": [
       "       user_followers  subjectivity      polarity\n",
       "count    1.734672e+06  1.734672e+06  1.734672e+06\n",
       "mean     8.946742e+03  3.430571e-01  1.545077e-01\n",
       "std      1.113588e+05  3.087966e-01  2.744611e-01\n",
       "min      0.000000e+00  0.000000e+00 -1.000000e+00\n",
       "25%      4.300000e+01  0.000000e+00  0.000000e+00\n",
       "50%      2.030000e+02  3.500000e-01  0.000000e+00\n",
       "75%      1.295000e+03  5.750000e-01  3.000000e-01\n",
       "max      2.359728e+07  1.000000e+00  1.000000e+00"
      ]
     },
     "execution_count": 11,
     "metadata": {},
     "output_type": "execute_result"
    }
   ],
   "source": [
    "dataset.describe()"
   ]
  },
  {
   "cell_type": "code",
   "execution_count": 12,
   "id": "d9223326",
   "metadata": {},
   "outputs": [
    {
     "name": "stdout",
     "output_type": "stream",
     "text": [
      "<class 'pandas.core.frame.DataFrame'>\n",
      "RangeIndex: 1734672 entries, 0 to 1734671\n",
      "Data columns (total 13 columns):\n",
      " #   Column            Dtype  \n",
      "---  ------            -----  \n",
      " 0   user_name         object \n",
      " 1   user_description  object \n",
      " 2   user_followers    float64\n",
      " 3   user_friends      object \n",
      " 4   user_favourites   object \n",
      " 5   date              object \n",
      " 6   text              object \n",
      " 7   hashtags          object \n",
      " 8   is_retweet        object \n",
      " 9   cleaned_tweets    object \n",
      " 10  subjectivity      float64\n",
      " 11  polarity          float64\n",
      " 12  sentiment         object \n",
      "dtypes: float64(3), object(10)\n",
      "memory usage: 172.0+ MB\n"
     ]
    }
   ],
   "source": [
    "dataset.info()"
   ]
  },
  {
   "cell_type": "code",
   "execution_count": null,
   "id": "985c7db1",
   "metadata": {},
   "outputs": [],
   "source": [
    "# Checking for null values"
   ]
  },
  {
   "cell_type": "code",
   "execution_count": 100,
   "id": "ce8630ce",
   "metadata": {},
   "outputs": [
    {
     "data": {
      "text/plain": [
       "user_name               18\n",
       "user_description    204582\n",
       "user_followers           0\n",
       "user_friends             0\n",
       "user_favourites          0\n",
       "date                     0\n",
       "text                     0\n",
       "hashtags                 0\n",
       "is_retweet              12\n",
       "cleaned_tweets        3414\n",
       "subjectivity             0\n",
       "polarity                 0\n",
       "sentiment                0\n",
       "dtype: int64"
      ]
     },
     "execution_count": 100,
     "metadata": {},
     "output_type": "execute_result"
    }
   ],
   "source": [
    "dataset.isnull().sum()"
   ]
  },
  {
   "cell_type": "code",
   "execution_count": 101,
   "id": "b2b9a982",
   "metadata": {
    "scrolled": true
   },
   "outputs": [],
   "source": [
    "dataset['cleaned_tweets'].dropna(axis=0, inplace=True)"
   ]
  },
  {
   "cell_type": "code",
   "execution_count": 102,
   "id": "cfe8a24f",
   "metadata": {},
   "outputs": [
    {
     "data": {
      "text/plain": [
       "user_name               18\n",
       "user_description    204582\n",
       "user_followers           0\n",
       "user_friends             0\n",
       "user_favourites          0\n",
       "date                     0\n",
       "text                     0\n",
       "hashtags                 0\n",
       "is_retweet              12\n",
       "cleaned_tweets        3414\n",
       "subjectivity             0\n",
       "polarity                 0\n",
       "sentiment                0\n",
       "dtype: int64"
      ]
     },
     "execution_count": 102,
     "metadata": {},
     "output_type": "execute_result"
    }
   ],
   "source": [
    "dataset.isnull().sum()"
   ]
  },
  {
   "cell_type": "code",
   "execution_count": 104,
   "id": "7ceb6598",
   "metadata": {},
   "outputs": [],
   "source": [
    "new=pd.read_csv(\"./clean_tweets.csv\")"
   ]
  },
  {
   "cell_type": "code",
   "execution_count": 105,
   "id": "b3ae3823",
   "metadata": {},
   "outputs": [
    {
     "data": {
      "text/plain": [
       "cleaned_tweets    3414\n",
       "dtype: int64"
      ]
     },
     "execution_count": 105,
     "metadata": {},
     "output_type": "execute_result"
    }
   ],
   "source": [
    "new.isnull().sum()"
   ]
  },
  {
   "cell_type": "code",
   "execution_count": 111,
   "id": "7f532407",
   "metadata": {},
   "outputs": [
    {
     "data": {
      "text/html": [
       "<div>\n",
       "<style scoped>\n",
       "    .dataframe tbody tr th:only-of-type {\n",
       "        vertical-align: middle;\n",
       "    }\n",
       "\n",
       "    .dataframe tbody tr th {\n",
       "        vertical-align: top;\n",
       "    }\n",
       "\n",
       "    .dataframe thead th {\n",
       "        text-align: right;\n",
       "    }\n",
       "</style>\n",
       "<table border=\"1\" class=\"dataframe\">\n",
       "  <thead>\n",
       "    <tr style=\"text-align: right;\">\n",
       "      <th></th>\n",
       "      <th>cleaned_tweets</th>\n",
       "    </tr>\n",
       "  </thead>\n",
       "  <tbody>\n",
       "    <tr>\n",
       "      <th>0</th>\n",
       "      <td>Blue Ridge Bank share halted NYSE ATM announce...</td>\n",
       "    </tr>\n",
       "    <tr>\n",
       "      <th>1</th>\n",
       "      <td>Today Take friend expe</td>\n",
       "    </tr>\n",
       "    <tr>\n",
       "      <th>2</th>\n",
       "      <td>BTC A big chance billion Price</td>\n",
       "    </tr>\n",
       "    <tr>\n",
       "      <th>3</th>\n",
       "      <td>This network secured node today Soon biggest b...</td>\n",
       "    </tr>\n",
       "    <tr>\n",
       "      <th>4</th>\n",
       "      <td>Trade Enjoy Trading fee Sign link</td>\n",
       "    </tr>\n",
       "    <tr>\n",
       "      <th>...</th>\n",
       "      <td>...</td>\n",
       "    </tr>\n",
       "    <tr>\n",
       "      <th>1734667</th>\n",
       "      <td>Dogs</td>\n",
       "    </tr>\n",
       "    <tr>\n",
       "      <th>1734668</th>\n",
       "      <td>Calm We go moon soon The new Shiba It x Unveil...</td>\n",
       "    </tr>\n",
       "    <tr>\n",
       "      <th>1734669</th>\n",
       "      <td>dogecoin future huge investor base</td>\n",
       "    </tr>\n",
       "    <tr>\n",
       "      <th>1734670</th>\n",
       "      <td>I changing way I invest In wallet The rest fun...</td>\n",
       "    </tr>\n",
       "    <tr>\n",
       "      <th>1734671</th>\n",
       "      <td>It absolutely unbelievable And price hardly re...</td>\n",
       "    </tr>\n",
       "  </tbody>\n",
       "</table>\n",
       "<p>1731258 rows × 1 columns</p>\n",
       "</div>"
      ],
      "text/plain": [
       "                                            cleaned_tweets\n",
       "0        Blue Ridge Bank share halted NYSE ATM announce...\n",
       "1                                   Today Take friend expe\n",
       "2                           BTC A big chance billion Price\n",
       "3        This network secured node today Soon biggest b...\n",
       "4                        Trade Enjoy Trading fee Sign link\n",
       "...                                                    ...\n",
       "1734667                                               Dogs\n",
       "1734668  Calm We go moon soon The new Shiba It x Unveil...\n",
       "1734669                 dogecoin future huge investor base\n",
       "1734670  I changing way I invest In wallet The rest fun...\n",
       "1734671  It absolutely unbelievable And price hardly re...\n",
       "\n",
       "[1731258 rows x 1 columns]"
      ]
     },
     "execution_count": 111,
     "metadata": {},
     "output_type": "execute_result"
    }
   ],
   "source": [
    "new.dropna(axis=0)"
   ]
  },
  {
   "cell_type": "code",
   "execution_count": 112,
   "id": "1a7f9316",
   "metadata": {},
   "outputs": [
    {
     "data": {
      "text/plain": [
       "cleaned_tweets    3414\n",
       "dtype: int64"
      ]
     },
     "execution_count": 112,
     "metadata": {},
     "output_type": "execute_result"
    }
   ],
   "source": [
    "new.isnull().sum()"
   ]
  },
  {
   "cell_type": "code",
   "execution_count": 19,
   "id": "6c496726",
   "metadata": {},
   "outputs": [
    {
     "data": {
      "text/plain": [
       "<AxesSubplot:xlabel='sentiment', ylabel='count'>"
      ]
     },
     "execution_count": 19,
     "metadata": {},
     "output_type": "execute_result"
    },
    {
     "data": {
      "image/png": "[encoded data removed]",
      "text/plain": [
       "<Figure size 432x288 with 1 Axes>"
      ]
     },
     "metadata": {
      "needs_background": "light"
     },
     "output_type": "display_data"
    }
   ],
   "source": [
    "sns.countplot(x = dataset['sentiment'], data = dataset)"
   ]
  },
  {
   "cell_type": "code",
   "execution_count": 23,
   "id": "4e7ca95b",
   "metadata": {},
   "outputs": [],
   "source": [
    "from nltk.corpus import stopwords\n",
    "from nltk.stem.snowball import SnowballStemmer\n",
    "import re # 정규화"
   ]
  },
  {
   "cell_type": "code",
   "execution_count": 24,
   "id": "859b8d39",
   "metadata": {},
   "outputs": [],
   "source": [
    "stemmer = SnowballStemmer('english')"
   ]
  },
  {
   "cell_type": "code",
   "execution_count": 25,
   "id": "bf0ddb28",
   "metadata": {},
   "outputs": [
    {
     "data": {
      "text/plain": [
       "<nltk.stem.snowball.SnowballStemmer at 0x1e6c8fcafd0>"
      ]
     },
     "execution_count": 25,
     "metadata": {},
     "output_type": "execute_result"
    }
   ],
   "source": [
    "stemmer"
   ]
  },
  {
   "cell_type": "code",
   "execution_count": 48,
   "id": "b18da2e3",
   "metadata": {
    "scrolled": true
   },
   "outputs": [
    {
     "data": {
      "text/html": [
       "<div>\n",
       "<style scoped>\n",
       "    .dataframe tbody tr th:only-of-type {\n",
       "        vertical-align: middle;\n",
       "    }\n",
       "\n",
       "    .dataframe tbody tr th {\n",
       "        vertical-align: top;\n",
       "    }\n",
       "\n",
       "    .dataframe thead th {\n",
       "        text-align: right;\n",
       "    }\n",
       "</style>\n",
       "<table border=\"1\" class=\"dataframe\">\n",
       "  <thead>\n",
       "    <tr style=\"text-align: right;\">\n",
       "      <th></th>\n",
       "      <th>user_name</th>\n",
       "      <th>user_description</th>\n",
       "      <th>user_followers</th>\n",
       "      <th>user_friends</th>\n",
       "      <th>user_favourites</th>\n",
       "      <th>date</th>\n",
       "      <th>text</th>\n",
       "      <th>hashtags</th>\n",
       "      <th>is_retweet</th>\n",
       "      <th>cleaned_tweets</th>\n",
       "      <th>subjectivity</th>\n",
       "      <th>polarity</th>\n",
       "      <th>sentiment</th>\n",
       "    </tr>\n",
       "  </thead>\n",
       "  <tbody>\n",
       "    <tr>\n",
       "      <th>1734667</th>\n",
       "      <td>JomCRYPTO</td>\n",
       "      <td>Developer</td>\n",
       "      <td>5.0</td>\n",
       "      <td>41</td>\n",
       "      <td>394</td>\n",
       "      <td>2021-11-12 20:27:16</td>\n",
       "      <td>@WatcherGuru #Btc\\n#ETH \\n#LTC \\n#COSMOS \\n#St...</td>\n",
       "      <td>['Btc', 'ETH', 'LTC', 'COSMOS', 'Stellar', 'Do...</td>\n",
       "      <td>False</td>\n",
       "      <td>Dogs</td>\n",
       "      <td>0.000000</td>\n",
       "      <td>0.000000</td>\n",
       "      <td>neutral</td>\n",
       "    </tr>\n",
       "    <tr>\n",
       "      <th>1734668</th>\n",
       "      <td>Ali</td>\n",
       "      <td>NaN</td>\n",
       "      <td>80.0</td>\n",
       "      <td>217</td>\n",
       "      <td>191</td>\n",
       "      <td>2021-11-12 20:27:15</td>\n",
       "      <td>@TheBitcoinConf @priceoftomorrow @addyinvest @...</td>\n",
       "      <td>['shib', 'shiba', 'shiba_army', 'shibaw', 'shi...</td>\n",
       "      <td>False</td>\n",
       "      <td>Calm We go moon soon The new Shiba It x Unveil...</td>\n",
       "      <td>0.602273</td>\n",
       "      <td>0.218182</td>\n",
       "      <td>positive</td>\n",
       "    </tr>\n",
       "    <tr>\n",
       "      <th>1734669</th>\n",
       "      <td>Muhammed</td>\n",
       "      <td>NaN</td>\n",
       "      <td>34.0</td>\n",
       "      <td>81</td>\n",
       "      <td>3695</td>\n",
       "      <td>2021-11-12 20:27:08</td>\n",
       "      <td>@Heatherfernsby #pitbulltoken will be the doge...</td>\n",
       "      <td>['pitbulltoken', 'pitbull', 'PitbullToken100x'...</td>\n",
       "      <td>False</td>\n",
       "      <td>dogecoin future huge investor base</td>\n",
       "      <td>0.675000</td>\n",
       "      <td>-0.133333</td>\n",
       "      <td>negative</td>\n",
       "    </tr>\n",
       "    <tr>\n",
       "      <th>1734670</th>\n",
       "      <td>Francesco Santoro $VET</td>\n",
       "      <td>Investitore #BNB , #CRO e  #VET appassionato d...</td>\n",
       "      <td>76.0</td>\n",
       "      <td>354</td>\n",
       "      <td>1011</td>\n",
       "      <td>2021-11-12 20:27:08</td>\n",
       "      <td>I am changing the way I invest. In the wallet ...</td>\n",
       "      <td>['VET', 'btc', 'BNB']</td>\n",
       "      <td>False</td>\n",
       "      <td>I changing way I invest In wallet The rest fun...</td>\n",
       "      <td>0.000000</td>\n",
       "      <td>0.000000</td>\n",
       "      <td>neutral</td>\n",
       "    </tr>\n",
       "    <tr>\n",
       "      <th>1734671</th>\n",
       "      <td>GROND</td>\n",
       "      <td>Investor / Misantrophe / Fudie\\n\\nPyramid sche...</td>\n",
       "      <td>17.0</td>\n",
       "      <td>41</td>\n",
       "      <td>594</td>\n",
       "      <td>2021-11-12 20:27:05</td>\n",
       "      <td>@LucaLand97 It is absolutely unbelievable. And...</td>\n",
       "      <td>['BTC']</td>\n",
       "      <td>False</td>\n",
       "      <td>It absolutely unbelievable And price hardly re...</td>\n",
       "      <td>0.770833</td>\n",
       "      <td>-0.270833</td>\n",
       "      <td>negative</td>\n",
       "    </tr>\n",
       "  </tbody>\n",
       "</table>\n",
       "</div>"
      ],
      "text/plain": [
       "                      user_name  \\\n",
       "1734667               JomCRYPTO   \n",
       "1734668                     Ali   \n",
       "1734669                Muhammed   \n",
       "1734670  Francesco Santoro $VET   \n",
       "1734671                   GROND   \n",
       "\n",
       "                                          user_description  user_followers  \\\n",
       "1734667                                          Developer             5.0   \n",
       "1734668                                                NaN            80.0   \n",
       "1734669                                                NaN            34.0   \n",
       "1734670  Investitore #BNB , #CRO e  #VET appassionato d...            76.0   \n",
       "1734671  Investor / Misantrophe / Fudie\\n\\nPyramid sche...            17.0   \n",
       "\n",
       "        user_friends user_favourites                 date  \\\n",
       "1734667           41             394  2021-11-12 20:27:16   \n",
       "1734668          217             191  2021-11-12 20:27:15   \n",
       "1734669           81            3695  2021-11-12 20:27:08   \n",
       "1734670          354            1011  2021-11-12 20:27:08   \n",
       "1734671           41             594  2021-11-12 20:27:05   \n",
       "\n",
       "                                                      text  \\\n",
       "1734667  @WatcherGuru #Btc\\n#ETH \\n#LTC \\n#COSMOS \\n#St...   \n",
       "1734668  @TheBitcoinConf @priceoftomorrow @addyinvest @...   \n",
       "1734669  @Heatherfernsby #pitbulltoken will be the doge...   \n",
       "1734670  I am changing the way I invest. In the wallet ...   \n",
       "1734671  @LucaLand97 It is absolutely unbelievable. And...   \n",
       "\n",
       "                                                  hashtags is_retweet  \\\n",
       "1734667  ['Btc', 'ETH', 'LTC', 'COSMOS', 'Stellar', 'Do...      False   \n",
       "1734668  ['shib', 'shiba', 'shiba_army', 'shibaw', 'shi...      False   \n",
       "1734669  ['pitbulltoken', 'pitbull', 'PitbullToken100x'...      False   \n",
       "1734670                              ['VET', 'btc', 'BNB']      False   \n",
       "1734671                                            ['BTC']      False   \n",
       "\n",
       "                                            cleaned_tweets  subjectivity  \\\n",
       "1734667                                               Dogs      0.000000   \n",
       "1734668  Calm We go moon soon The new Shiba It x Unveil...      0.602273   \n",
       "1734669                 dogecoin future huge investor base      0.675000   \n",
       "1734670  I changing way I invest In wallet The rest fun...      0.000000   \n",
       "1734671  It absolutely unbelievable And price hardly re...      0.770833   \n",
       "\n",
       "         polarity sentiment  \n",
       "1734667  0.000000   neutral  \n",
       "1734668  0.218182  positive  \n",
       "1734669 -0.133333  negative  \n",
       "1734670  0.000000   neutral  \n",
       "1734671 -0.270833  negative  "
      ]
     },
     "execution_count": 48,
     "metadata": {},
     "output_type": "execute_result"
    }
   ],
   "source": [
    "dataset.tail()"
   ]
  },
  {
   "cell_type": "code",
   "execution_count": 39,
   "id": "cdb4bb47",
   "metadata": {},
   "outputs": [],
   "source": [
    "from sklearn.feature_extraction.text import CountVectorizer\n",
    "### Convert a collection of text documents to a matrix of token counts\n",
    "### sklearn의 feature_extraction의 text의 CountVectorizer"
   ]
  },
  {
   "cell_type": "code",
   "execution_count": 40,
   "id": "f925dc3d",
   "metadata": {},
   "outputs": [],
   "source": [
    "#디폴트 값으로 CountVectorizer를 만들어줍니다.\n",
    "cv = CountVectorizer(max_features=1500)"
   ]
  },
  {
   "cell_type": "code",
   "execution_count": 42,
   "id": "9751170e",
   "metadata": {},
   "outputs": [
    {
     "ename": "ValueError",
     "evalue": "np.nan is an invalid document, expected byte or unicode string.",
     "output_type": "error",
     "traceback": [
      "\u001b[1;31m---------------------------------------------------------------------------\u001b[0m",
      "\u001b[1;31mValueError\u001b[0m                                Traceback (most recent call last)",
      "\u001b[1;32m<ipython-input-42-ce1bfecaa36b>\u001b[0m in \u001b[0;36m<module>\u001b[1;34m\u001b[0m\n\u001b[1;32m----> 1\u001b[1;33m \u001b[0mcv\u001b[0m\u001b[1;33m.\u001b[0m\u001b[0mfit\u001b[0m\u001b[1;33m(\u001b[0m\u001b[0mdataset\u001b[0m\u001b[1;33m[\u001b[0m\u001b[1;34m\"cleaned_tweets\"\u001b[0m\u001b[1;33m]\u001b[0m\u001b[1;33m)\u001b[0m\u001b[1;33m\u001b[0m\u001b[1;33m\u001b[0m\u001b[0m\n\u001b[0m",
      "\u001b[1;32m~\\anaconda3\\lib\\site-packages\\sklearn\\feature_extraction\\text.py\u001b[0m in \u001b[0;36mfit\u001b[1;34m(self, raw_documents, y)\u001b[0m\n\u001b[0;32m   1168\u001b[0m         \"\"\"\n\u001b[0;32m   1169\u001b[0m         \u001b[0mself\u001b[0m\u001b[1;33m.\u001b[0m\u001b[0m_warn_for_unused_params\u001b[0m\u001b[1;33m(\u001b[0m\u001b[1;33m)\u001b[0m\u001b[1;33m\u001b[0m\u001b[1;33m\u001b[0m\u001b[0m\n\u001b[1;32m-> 1170\u001b[1;33m         \u001b[0mself\u001b[0m\u001b[1;33m.\u001b[0m\u001b[0mfit_transform\u001b[0m\u001b[1;33m(\u001b[0m\u001b[0mraw_documents\u001b[0m\u001b[1;33m)\u001b[0m\u001b[1;33m\u001b[0m\u001b[1;33m\u001b[0m\u001b[0m\n\u001b[0m\u001b[0;32m   1171\u001b[0m         \u001b[1;32mreturn\u001b[0m \u001b[0mself\u001b[0m\u001b[1;33m\u001b[0m\u001b[1;33m\u001b[0m\u001b[0m\n\u001b[0;32m   1172\u001b[0m \u001b[1;33m\u001b[0m\u001b[0m\n",
      "\u001b[1;32m~\\anaconda3\\lib\\site-packages\\sklearn\\feature_extraction\\text.py\u001b[0m in \u001b[0;36mfit_transform\u001b[1;34m(self, raw_documents, y)\u001b[0m\n\u001b[0;32m   1201\u001b[0m         \u001b[0mmax_features\u001b[0m \u001b[1;33m=\u001b[0m \u001b[0mself\u001b[0m\u001b[1;33m.\u001b[0m\u001b[0mmax_features\u001b[0m\u001b[1;33m\u001b[0m\u001b[1;33m\u001b[0m\u001b[0m\n\u001b[0;32m   1202\u001b[0m \u001b[1;33m\u001b[0m\u001b[0m\n\u001b[1;32m-> 1203\u001b[1;33m         vocabulary, X = self._count_vocab(raw_documents,\n\u001b[0m\u001b[0;32m   1204\u001b[0m                                           self.fixed_vocabulary_)\n\u001b[0;32m   1205\u001b[0m \u001b[1;33m\u001b[0m\u001b[0m\n",
      "\u001b[1;32m~\\anaconda3\\lib\\site-packages\\sklearn\\feature_extraction\\text.py\u001b[0m in \u001b[0;36m_count_vocab\u001b[1;34m(self, raw_documents, fixed_vocab)\u001b[0m\n\u001b[0;32m   1113\u001b[0m         \u001b[1;32mfor\u001b[0m \u001b[0mdoc\u001b[0m \u001b[1;32min\u001b[0m \u001b[0mraw_documents\u001b[0m\u001b[1;33m:\u001b[0m\u001b[1;33m\u001b[0m\u001b[1;33m\u001b[0m\u001b[0m\n\u001b[0;32m   1114\u001b[0m             \u001b[0mfeature_counter\u001b[0m \u001b[1;33m=\u001b[0m \u001b[1;33m{\u001b[0m\u001b[1;33m}\u001b[0m\u001b[1;33m\u001b[0m\u001b[1;33m\u001b[0m\u001b[0m\n\u001b[1;32m-> 1115\u001b[1;33m             \u001b[1;32mfor\u001b[0m \u001b[0mfeature\u001b[0m \u001b[1;32min\u001b[0m \u001b[0manalyze\u001b[0m\u001b[1;33m(\u001b[0m\u001b[0mdoc\u001b[0m\u001b[1;33m)\u001b[0m\u001b[1;33m:\u001b[0m\u001b[1;33m\u001b[0m\u001b[1;33m\u001b[0m\u001b[0m\n\u001b[0m\u001b[0;32m   1116\u001b[0m                 \u001b[1;32mtry\u001b[0m\u001b[1;33m:\u001b[0m\u001b[1;33m\u001b[0m\u001b[1;33m\u001b[0m\u001b[0m\n\u001b[0;32m   1117\u001b[0m                     \u001b[0mfeature_idx\u001b[0m \u001b[1;33m=\u001b[0m \u001b[0mvocabulary\u001b[0m\u001b[1;33m[\u001b[0m\u001b[0mfeature\u001b[0m\u001b[1;33m]\u001b[0m\u001b[1;33m\u001b[0m\u001b[1;33m\u001b[0m\u001b[0m\n",
      "\u001b[1;32m~\\anaconda3\\lib\\site-packages\\sklearn\\feature_extraction\\text.py\u001b[0m in \u001b[0;36m_analyze\u001b[1;34m(doc, analyzer, tokenizer, ngrams, preprocessor, decoder, stop_words)\u001b[0m\n\u001b[0;32m     97\u001b[0m \u001b[1;33m\u001b[0m\u001b[0m\n\u001b[0;32m     98\u001b[0m     \u001b[1;32mif\u001b[0m \u001b[0mdecoder\u001b[0m \u001b[1;32mis\u001b[0m \u001b[1;32mnot\u001b[0m \u001b[1;32mNone\u001b[0m\u001b[1;33m:\u001b[0m\u001b[1;33m\u001b[0m\u001b[1;33m\u001b[0m\u001b[0m\n\u001b[1;32m---> 99\u001b[1;33m         \u001b[0mdoc\u001b[0m \u001b[1;33m=\u001b[0m \u001b[0mdecoder\u001b[0m\u001b[1;33m(\u001b[0m\u001b[0mdoc\u001b[0m\u001b[1;33m)\u001b[0m\u001b[1;33m\u001b[0m\u001b[1;33m\u001b[0m\u001b[0m\n\u001b[0m\u001b[0;32m    100\u001b[0m     \u001b[1;32mif\u001b[0m \u001b[0manalyzer\u001b[0m \u001b[1;32mis\u001b[0m \u001b[1;32mnot\u001b[0m \u001b[1;32mNone\u001b[0m\u001b[1;33m:\u001b[0m\u001b[1;33m\u001b[0m\u001b[1;33m\u001b[0m\u001b[0m\n\u001b[0;32m    101\u001b[0m         \u001b[0mdoc\u001b[0m \u001b[1;33m=\u001b[0m \u001b[0manalyzer\u001b[0m\u001b[1;33m(\u001b[0m\u001b[0mdoc\u001b[0m\u001b[1;33m)\u001b[0m\u001b[1;33m\u001b[0m\u001b[1;33m\u001b[0m\u001b[0m\n",
      "\u001b[1;32m~\\anaconda3\\lib\\site-packages\\sklearn\\feature_extraction\\text.py\u001b[0m in \u001b[0;36mdecode\u001b[1;34m(self, doc)\u001b[0m\n\u001b[0;32m    215\u001b[0m \u001b[1;33m\u001b[0m\u001b[0m\n\u001b[0;32m    216\u001b[0m         \u001b[1;32mif\u001b[0m \u001b[0mdoc\u001b[0m \u001b[1;32mis\u001b[0m \u001b[0mnp\u001b[0m\u001b[1;33m.\u001b[0m\u001b[0mnan\u001b[0m\u001b[1;33m:\u001b[0m\u001b[1;33m\u001b[0m\u001b[1;33m\u001b[0m\u001b[0m\n\u001b[1;32m--> 217\u001b[1;33m             raise ValueError(\"np.nan is an invalid document, expected byte or \"\n\u001b[0m\u001b[0;32m    218\u001b[0m                              \"unicode string.\")\n\u001b[0;32m    219\u001b[0m \u001b[1;33m\u001b[0m\u001b[0m\n",
      "\u001b[1;31mValueError\u001b[0m: np.nan is an invalid document, expected byte or unicode string."
     ]
    }
   ],
   "source": [
    "cv.fit(dataset[\"cleaned_tweets\"])"
   ]
  },
  {
   "cell_type": "code",
   "execution_count": null,
   "id": "ce4aa996",
   "metadata": {},
   "outputs": [],
   "source": []
  }
 ],
 "metadata": {
  "kernelspec": {
   "display_name": "Python 3",
   "language": "python",
   "name": "python3"
  },
  "language_info": {
   "codemirror_mode": {
    "name": "ipython",
    "version": 3
   },
   "file_extension": ".py",
   "mimetype": "text/x-python",
   "name": "python",
   "nbconvert_exporter": "python",
   "pygments_lexer": "ipython3",
   "version": "3.8.8"
  }
 },
 "nbformat": 4,
 "nbformat_minor": 5
}
